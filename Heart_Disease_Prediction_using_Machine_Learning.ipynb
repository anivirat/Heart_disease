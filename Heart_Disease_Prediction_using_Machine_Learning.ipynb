{
  "nbformat": 4,
  "nbformat_minor": 0,
  "metadata": {
    "colab": {
      "private_outputs": true,
      "provenance": []
    },
    "kernelspec": {
      "name": "python3",
      "display_name": "Python 3"
    },
    "language_info": {
      "name": "python"
    }
  },
  "cells": [
    {
      "cell_type": "code",
      "source": [
        "#importing  all libs"
      ],
      "metadata": {
        "id": "ayhPtehcGQSh"
      },
      "execution_count": null,
      "outputs": []
    },
    {
      "cell_type": "code",
      "execution_count": null,
      "metadata": {
        "id": "A2XB6PfKuaf4"
      },
      "outputs": [],
      "source": [
        "import pandas as pd\n",
        "import numpy as np\n",
        "import seaborn as sns\n",
        "import matplotlib.pyplot as plt"
      ]
    },
    {
      "cell_type": "code",
      "source": [
        "from google.colab import files\n",
        "files.upload()"
      ],
      "metadata": {
        "collapsed": true,
        "id": "cAQQ0GyquqHG"
      },
      "execution_count": null,
      "outputs": []
    },
    {
      "cell_type": "code",
      "source": [
        "df=pd.read_csv(\"heart_disease_uci.csv\")"
      ],
      "metadata": {
        "id": "ljFPsMIgu3JB"
      },
      "execution_count": null,
      "outputs": []
    },
    {
      "cell_type": "code",
      "source": [
        "df"
      ],
      "metadata": {
        "id": "srCkfmm6vukI"
      },
      "execution_count": null,
      "outputs": []
    },
    {
      "cell_type": "code",
      "source": [
        "df.shape"
      ],
      "metadata": {
        "id": "Tuz34NW27bPU"
      },
      "execution_count": null,
      "outputs": []
    },
    {
      "cell_type": "code",
      "source": [
        "df.info()"
      ],
      "metadata": {
        "id": "bl84LquR7RrM"
      },
      "execution_count": null,
      "outputs": []
    },
    {
      "cell_type": "code",
      "source": [
        "df.describe()"
      ],
      "metadata": {
        "id": "KsfWCg9D7eMj"
      },
      "execution_count": null,
      "outputs": []
    },
    {
      "cell_type": "code",
      "source": [
        "df.isnull().sum()"
      ],
      "metadata": {
        "id": "MejSHuJ37ULn"
      },
      "execution_count": null,
      "outputs": []
    },
    {
      "cell_type": "code",
      "source": [
        "df_clean = df.drop(columns=[\"id\", \"dataset\"])"
      ],
      "metadata": {
        "id": "3t82Phnk7lxv"
      },
      "execution_count": null,
      "outputs": []
    },
    {
      "cell_type": "code",
      "source": [
        "df_clean.fillna(df_clean.median(numeric_only=True), inplace=True)\n"
      ],
      "metadata": {
        "id": "CuM5s2Kn8rSh"
      },
      "execution_count": null,
      "outputs": []
    },
    {
      "cell_type": "code",
      "source": [
        "categorical_cols = df_clean.select_dtypes(include='object').columns\n"
      ],
      "metadata": {
        "id": "Yq4LVf-19EsW"
      },
      "execution_count": null,
      "outputs": []
    },
    {
      "cell_type": "code",
      "source": [
        "for col in categorical_cols:\n",
        "    df_clean[col].fillna(df_clean[col].mode()[0], inplace=True)\n"
      ],
      "metadata": {
        "collapsed": true,
        "id": "prkV71vp70He"
      },
      "execution_count": null,
      "outputs": []
    },
    {
      "cell_type": "code",
      "source": [
        "from sklearn.preprocessing import LabelEncoder\n",
        "\n",
        "df_clean['target'] = df_clean['num'].apply(lambda x: 1 if x > 0 else 0)\n",
        "df_clean.drop(columns=['num'], inplace=True)\n",
        "\n",
        "le = LabelEncoder()\n",
        "for col in categorical_cols:\n",
        "    df_clean[col] = le.fit_transform(df_clean[col])\n",
        "# Final check\n",
        "df_clean.info(), df_clean.head()\n"
      ],
      "metadata": {
        "id": "UXalEKuqv6X7"
      },
      "execution_count": null,
      "outputs": []
    },
    {
      "cell_type": "code",
      "source": [
        "from sklearn.model_selection import train_test_split\n",
        "from sklearn.preprocessing import StandardScaler\n",
        "from imblearn.over_sampling import SMOTE\n",
        "\n",
        "# Split features and target\n",
        "X = df_clean.drop(columns=['target'])\n",
        "y = df_clean['target']\n",
        "\n",
        "# Train-test split\n",
        "X_train, X_test, y_train, y_test = train_test_split(X, y, test_size=0.2, random_state=42, stratify=y)\n",
        "\n",
        "# Apply SMOTE to balance the training set\n",
        "#smote = SMOTE(random_state=42)\n",
        "#X_train_smote, y_train_smote = smote.fit_resample(X_train, y_train)\n",
        "\n",
        "# Scale features\n",
        "scaler = StandardScaler()\n",
        "X_train_scaled = scaler.fit_transform(X_train)\n",
        "X_test_scaled = scaler.transform(X_test)\n",
        "\n",
        "X_train_scaled.shape, X_test_scaled.shape, y_train.value_counts()\n"
      ],
      "metadata": {
        "id": "VOItKAgI1nHe"
      },
      "execution_count": null,
      "outputs": []
    },
    {
      "cell_type": "code",
      "source": [
        "from sklearn.ensemble import RandomForestClassifier\n"
      ],
      "metadata": {
        "id": "dRT-SJl2lGcm"
      },
      "execution_count": null,
      "outputs": []
    },
    {
      "cell_type": "code",
      "source": [],
      "metadata": {
        "id": "s94_ELrwlGYb"
      },
      "execution_count": null,
      "outputs": []
    },
    {
      "cell_type": "code",
      "source": [
        "from sklearn.linear_model import LogisticRegression\n",
        "from xgboost import XGBClassifier\n",
        "from lightgbm import LGBMClassifier\n",
        "from sklearn.metrics import classification_report, roc_auc_score, roc_curve\n",
        "import matplotlib.pyplot as plt\n",
        "\n",
        "scaler = StandardScaler()\n",
        "X_train_scaled = scaler.fit_transform(X_train)\n",
        "X_test_scaled = scaler.transform(X_test)\n",
        "\n",
        "# Logistic Regression\n",
        "lr = LogisticRegression()\n",
        "lr.fit(X_train_scaled, y_train)\n",
        "y_pred_lr = lr.predict(X_test_scaled)\n",
        "y_proba_lr = lr.predict_proba(X_test_scaled)[:, 1]\n",
        "auc_lr = roc_auc_score(y_test, y_proba_lr)\n",
        "\n",
        "# XGBoost\n",
        "xgb = XGBClassifier(use_label_encoder=False, eval_metric='logloss', random_state=42)\n",
        "xgb.fit(X_train_scaled, y_train)\n",
        "y_pred_xgb = xgb.predict(X_test_scaled)\n",
        "y_proba_xgb = xgb.predict_proba(X_test_scaled)[:, 1]\n",
        "auc_xgb = roc_auc_score(y_test, y_proba_xgb)\n",
        "\n",
        "# LightGBM\n",
        "lgb = LGBMClassifier(random_state=42)\n",
        "lgb.fit(X_train_scaled, y_train)\n",
        "y_pred_lgb = lgb.predict(X_test_scaled)\n",
        "y_proba_lgb = lgb.predict_proba(X_test_scaled)[:, 1]\n",
        "auc_lgb = roc_auc_score(y_test, y_proba_lgb)\n",
        "\n",
        "# Random forest\n",
        "rf = RandomForestClassifier(random_state=42)\n",
        "rf.fit(X_train_scaled, y_train)\n",
        "y_pred_rf = rf.predict(X_test_scaled)\n",
        "y_proba_rf = rf.predict_proba(X_test_scaled)[:, 1]\n",
        "auc_rf = roc_auc_score(y_test, y_proba_rf)\n",
        "\n",
        "# ROC Curve\n",
        "fpr_rf, tpr_rf, _ = roc_curve(y_test, y_proba_rf)\n",
        "\n"
      ],
      "metadata": {
        "id": "eMR2ABWg1y11"
      },
      "execution_count": null,
      "outputs": []
    },
    {
      "cell_type": "code",
      "source": [
        "from sklearn.metrics import accuracy_score\n",
        "accuracy = accuracy_score(y_test, y_pred_lr)\n",
        "print(\"Accuracy:\", accuracy)"
      ],
      "metadata": {
        "id": "HMUczow-GadV"
      },
      "execution_count": null,
      "outputs": []
    },
    {
      "cell_type": "code",
      "source": [
        "from sklearn.metrics import accuracy_score\n",
        "accuracy = accuracy_score(y_test, y_pred_xgb)\n",
        "print(\"Accuracy:\", accuracy)"
      ],
      "metadata": {
        "id": "wKIMF7FcGeX_"
      },
      "execution_count": null,
      "outputs": []
    },
    {
      "cell_type": "code",
      "source": [
        "from sklearn.metrics import accuracy_score\n",
        "accuracy = accuracy_score(y_test, y_pred_lgb)\n",
        "print(\"Accuracy:\", accuracy)"
      ],
      "metadata": {
        "id": "lRToBdIuG7r4"
      },
      "execution_count": null,
      "outputs": []
    },
    {
      "cell_type": "code",
      "source": [
        "from sklearn.metrics import accuracy_score\n",
        "accuracy = accuracy_score(y_test, y_pred_rf)\n",
        "print(\"Accuracy:\", accuracy)"
      ],
      "metadata": {
        "id": "BrPVOMhaFWr9"
      },
      "execution_count": null,
      "outputs": []
    },
    {
      "cell_type": "code",
      "source": [
        "df_clean.head(1)"
      ],
      "metadata": {
        "id": "vvrGGaN6HRyD"
      },
      "execution_count": null,
      "outputs": []
    },
    {
      "cell_type": "code",
      "source": [
        "new_patient = [[63,\t1,\t3,\t145.0,\t233.0,\t1,\t0,\t150.0,\t0,\t2.3,\t0,\t0.0,\t0]]\n"
      ],
      "metadata": {
        "id": "Oi0QUo10ykY6"
      },
      "execution_count": null,
      "outputs": []
    },
    {
      "cell_type": "code",
      "source": [
        "\n",
        "new_patient_scaled = scaler.transform(new_patient)\n",
        "pred = rf.predict(new_patient_scaled)[0]\n",
        "if pred == 1:\n",
        "    print(f\"The person likely has heart disease \")\n",
        "else:\n",
        "    print(f\"The person likely does NOT have heart disease \")\n"
      ],
      "metadata": {
        "id": "bSZ3e5vOHM-O"
      },
      "execution_count": null,
      "outputs": []
    },
    {
      "cell_type": "code",
      "source": [],
      "metadata": {
        "id": "t4NUbH6LJqha"
      },
      "execution_count": null,
      "outputs": []
    }
  ]
}